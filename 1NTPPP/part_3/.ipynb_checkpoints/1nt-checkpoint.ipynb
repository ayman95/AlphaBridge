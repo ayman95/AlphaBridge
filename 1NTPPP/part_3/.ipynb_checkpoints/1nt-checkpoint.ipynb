{
 "cells": [
  {
   "cell_type": "markdown",
   "metadata": {},
   "source": [
    "## Learning to chose the suit to lead on (pass) - 1nt - all pass\n",
    "to add: treat the same hands with differents leads; check the dependence of 1nt force (!need to calculate points of declarer)"
   ]
  },
  {
   "cell_type": "markdown",
   "metadata": {},
   "source": [
    "Script to get the leading hand and the lead from file \"temp_final.DAT\" which containts hands + leads"
   ]
  },
  {
   "cell_type": "code",
   "execution_count": 5,
   "metadata": {
    "collapsed": true
   },
   "outputs": [],
   "source": [
    "import parsing_temp_final\n",
    "import numpy as np"
   ]
  },
  {
   "cell_type": "code",
   "execution_count": 2,
   "metadata": {
    "collapsed": false
   },
   "outputs": [],
   "source": [
    "filename = \"temp_final.DAT\"\n",
    "vectors = parsing_temp_final.archiveTreat(filename)"
   ]
  },
  {
   "cell_type": "markdown",
   "metadata": {},
   "source": [
    "Creating two arrays with hands and corresponding leads"
   ]
  },
  {
   "cell_type": "code",
   "execution_count": 3,
   "metadata": {
    "collapsed": false
   },
   "outputs": [],
   "source": [
    "leads = []\n",
    "hands = []\n",
    "length = len(vectors)\n",
    "for i in range(length):\n",
    "    leads.append(vectors[i][0])\n",
    "    hands.append(vectors[i][1])\n",
    "#S = 0, H = 1, D = 2, C = 3\n",
    "suits_lead = []\n",
    "for i in range(length):\n",
    "    if leads[i][0] == 'S':\n",
    "        suits_lead.append(0)\n",
    "    if leads[i][0] == 'H':\n",
    "        suits_lead.append(1)\n",
    "    if leads[i][0] == 'D':\n",
    "        suits_lead.append(2)\n",
    "    if leads[i][0] == 'C':\n",
    "        suits_lead.append(3)"
   ]
  },
  {
   "cell_type": "markdown",
   "metadata": {},
   "source": [
    "Implementing the basic rule \"lead the best suit\", where \"the best\" means the longest (and major>minor)"
   ]
  },
  {
   "cell_type": "code",
   "execution_count": 6,
   "metadata": {
    "collapsed": false
   },
   "outputs": [],
   "source": [
    "number_of_cardes = np.zeros((length, 4), int)\n",
    "for i in range(length):\n",
    "    number_of_cardes[i][0] = sum(hands[i][0:13])\n",
    "    number_of_cardes[i][1] = sum(hands[i][13:26])\n",
    "    number_of_cardes[i][2] = sum(hands[i][26:39])\n",
    "    number_of_cardes[i][3] = sum(hands[i][39:52])\n",
    "best_suit = []\n",
    "for i in range(length):\n",
    "    best_suit.append(np.argmax(number_of_cardes[i]))"
   ]
  },
  {
   "cell_type": "markdown",
   "metadata": {},
   "source": [
    "Calculate the percantage of applying the empiric rule in the given data"
   ]
  },
  {
   "cell_type": "code",
   "execution_count": 7,
   "metadata": {
    "collapsed": false
   },
   "outputs": [
    {
     "name": "stdout",
     "output_type": "stream",
     "text": [
      "0.738398544131\n"
     ]
    }
   ],
   "source": [
    "a = np.array(best_suit)\n",
    "b = np.array(suits_lead)\n",
    "print 1.0*np.count_nonzero(a==b)/length"
   ]
  },
  {
   "cell_type": "markdown",
   "metadata": {},
   "source": [
    "Making a classifier"
   ]
  },
  {
   "cell_type": "code",
   "execution_count": 8,
   "metadata": {
    "collapsed": false
   },
   "outputs": [],
   "source": [
    "from sklearn.multiclass import OneVsRestClassifier\n",
    "from sklearn.svm import SVC\n",
    "from sklearn.model_selection import train_test_split"
   ]
  },
  {
   "cell_type": "markdown",
   "metadata": {},
   "source": [
    "Learning and checking a OneVsRestClassifier classifier on train_test_split"
   ]
  },
  {
   "cell_type": "code",
   "execution_count": 13,
   "metadata": {
    "collapsed": false
   },
   "outputs": [
    {
     "data": {
      "text/plain": [
       "0.6886363636363636"
      ]
     },
     "execution_count": 13,
     "metadata": {},
     "output_type": "execute_result"
    }
   ],
   "source": [
    "X_train, X_test, y_train, y_test = train_test_split(hands, suits_lead, test_size=0.20, random_state=0)\n",
    "clf = OneVsRestClassifier(SVC(random_state=0)).fit(X_train, y_train)\n",
    "clf.score(X_test, y_test)"
   ]
  },
  {
   "cell_type": "markdown",
   "metadata": {},
   "source": [
    "Learning and checking a SVM classifier on train_test_split"
   ]
  },
  {
   "cell_type": "code",
   "execution_count": 14,
   "metadata": {
    "collapsed": false
   },
   "outputs": [
    {
     "data": {
      "text/plain": [
       "0.67500000000000004"
      ]
     },
     "execution_count": 14,
     "metadata": {},
     "output_type": "execute_result"
    }
   ],
   "source": [
    "X_train, X_test, y_train, y_test = train_test_split(hands, suits_lead, test_size=0.2, random_state=0)\n",
    "clf_svm = SVC()\n",
    "clf_svm.fit(X_train, y_train)\n",
    "clf_svm.score(X_test, y_test)"
   ]
  },
  {
   "cell_type": "markdown",
   "metadata": {},
   "source": [
    "Increasing number of boards by swipping majors and minors"
   ]
  },
  {
   "cell_type": "code",
   "execution_count": 15,
   "metadata": {
    "collapsed": true
   },
   "outputs": [],
   "source": [
    "#exchange majors; exchange minors; exchange both\n",
    "for i in range(length):\n",
    "    \n",
    "    #exchange majors\n",
    "    new_hand = np.zeros(52)\n",
    "    new_hand[:13], new_hand[13:26], new_hand[26:52] = hands[i][13:26], hands[i][0:13], hands[i][26:52]\n",
    "    hands.append(new_hand)\n",
    "    if suits_lead[i] == 0:\n",
    "        suits_lead.append(1)\n",
    "    if suits_lead[i] == 1:\n",
    "        suits_lead.append(0)\n",
    "    if suits_lead[i] == 2:\n",
    "        suits_lead.append(2)\n",
    "    if suits_lead[i] == 3:\n",
    "        suits_lead.append(3)\n",
    "        \n",
    "    #exchange minors\n",
    "    new_hand = np.zeros(52)\n",
    "    new_hand[:26], new_hand[26:39], new_hand[39:52] = hands[i][0:26], hands[i][39:52], hands[i][26:39]\n",
    "    hands.append(new_hand)\n",
    "    if suits_lead[i] == 0:\n",
    "        suits_lead.append(0)\n",
    "    if suits_lead[i] == 1:\n",
    "        suits_lead.append(1)\n",
    "    if suits_lead[i] == 2:\n",
    "        suits_lead.append(3)\n",
    "    if suits_lead[i] == 3:\n",
    "        suits_lead.append(2)\n",
    "        \n",
    "    #exchange both\n",
    "    new_hand = np.zeros(52)\n",
    "    new_hand[:13], new_hand[13:26], new_hand[26:39], new_hand[39:52] = hands[i][13:26], hands[i][0:13], hands[i][39:52], hands[i][26:39]\n",
    "    hands.append(new_hand)\n",
    "    if suits_lead[i] == 0:\n",
    "        suits_lead.append(1)\n",
    "    if suits_lead[i] == 1:\n",
    "        suits_lead.append(0)\n",
    "    if suits_lead[i] == 2:\n",
    "        suits_lead.append(3)\n",
    "    if suits_lead[i] == 3:\n",
    "        suits_lead.append(2)"
   ]
  },
  {
   "cell_type": "markdown",
   "metadata": {},
   "source": [
    "Learning and checking bigger dataset on a OneVsRestClassifier classifier on train_test_split"
   ]
  },
  {
   "cell_type": "code",
   "execution_count": 16,
   "metadata": {
    "collapsed": false
   },
   "outputs": [
    {
     "data": {
      "text/plain": [
       "0.79306424104604889"
      ]
     },
     "execution_count": 16,
     "metadata": {},
     "output_type": "execute_result"
    }
   ],
   "source": [
    "X_train, X_test, y_train, y_test = train_test_split(hands, suits_lead, test_size=0.2, random_state=0)\n",
    "clf = OneVsRestClassifier(SVC(random_state=0)).fit(X_train, y_train)\n",
    "clf.score(X_test, y_test)"
   ]
  }
 ],
 "metadata": {
  "kernelspec": {
   "display_name": "Python 3",
   "language": "python",
   "name": "python3"
  },
  "language_info": {
   "codemirror_mode": {
    "name": "ipython",
    "version": 3
   },
   "file_extension": ".py",
   "mimetype": "text/x-python",
   "name": "python",
   "nbconvert_exporter": "python",
   "pygments_lexer": "ipython3",
   "version": "3.6.0"
  }
 },
 "nbformat": 4,
 "nbformat_minor": 0
}
