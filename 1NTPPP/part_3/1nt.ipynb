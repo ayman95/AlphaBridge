{
 "cells": [
  {
   "cell_type": "markdown",
   "metadata": {},
   "source": [
    "# The leads in bridge.\n",
    "The problem we are trying to treat is difficult mostly because different pairs use different bidding systems so we can not apply the methods of Machine Learning to the bidding sequences. At first we should somehow decode the information from the sequence."
   ]
  },
  {
   "cell_type": "markdown",
   "metadata": {},
   "source": [
    "## Learning to chose the suit to lead on (pass) - 1nt - all pass.\n",
    "In this section we are \"cheating\" using the fact that in (almost) all bidding systems 1nt opening promises (semi-)regular hand, thus the priniples of the lead are the same."
   ]
  },
  {
   "cell_type": "markdown",
   "metadata": {},
   "source": [
    "*to add: treat the same hands with differents leads; check the dependence of 1nt force (!need to calculate points of declarer)*"
   ]
  },
  {
   "cell_type": "markdown",
   "metadata": {},
   "source": [
    "### Preprocessing the data."
   ]
  },
  {
   "cell_type": "markdown",
   "metadata": {},
   "source": [
    "Script to get the leading hand and the lead from file \"temp_final.DAT\" which contains hands + leads"
   ]
  },
  {
   "cell_type": "code",
   "execution_count": 1,
   "metadata": {
    "collapsed": true
   },
   "outputs": [],
   "source": [
    "import parsing_temp_final\n",
    "import numpy as np\n",
    "import matplotlib.pyplot as plt\n",
    "%matplotlib inline"
   ]
  },
  {
   "cell_type": "code",
   "execution_count": 2,
   "metadata": {
    "collapsed": false
   },
   "outputs": [],
   "source": [
    "filename = \"temp_final.DAT\"\n",
    "vectors = parsing_temp_final.archiveTreat(filename)"
   ]
  },
  {
   "cell_type": "markdown",
   "metadata": {},
   "source": [
    "Creating two arrays: __hands__ and corresponding leads. Enumerating leads by __suits_lead__."
   ]
  },
  {
   "cell_type": "code",
   "execution_count": 3,
   "metadata": {
    "collapsed": false
   },
   "outputs": [],
   "source": [
    "leads = []\n",
    "hands = []\n",
    "length = len(vectors)\n",
    "for i in range(length):\n",
    "    leads.append(vectors[i][0])\n",
    "    hands.append(vectors[i][1])\n",
    "#S = 0, H = 1, D = 2, C = 3\n",
    "suits_lead = []\n",
    "for i in range(length):\n",
    "    if leads[i][0] == 'S':\n",
    "        suits_lead.append(0)\n",
    "    if leads[i][0] == 'H':\n",
    "        suits_lead.append(1)\n",
    "    if leads[i][0] == 'D':\n",
    "        suits_lead.append(2)\n",
    "    if leads[i][0] == 'C':\n",
    "        suits_lead.append(3)"
   ]
  },
  {
   "cell_type": "markdown",
   "metadata": {},
   "source": [
    "### Vizualisation of the data."
   ]
  },
  {
   "cell_type": "code",
   "execution_count": 25,
   "metadata": {
    "collapsed": false
   },
   "outputs": [
    {
     "data": {
      "text/plain": [
       "<matplotlib.text.Text at 0x113e96d90>"
      ]
     },
     "execution_count": 25,
     "metadata": {},
     "output_type": "execute_result"
    },
    {
     "data": {
      "image/png": "[encoded data removed]",
      "text/plain": [
       "<matplotlib.figure.Figure at 0x113eca410>"
      ]
     },
     "metadata": {},
     "output_type": "display_data"
    }
   ],
   "source": [
    "plt.hist(suits_lead, bins = [0, 1, 2, 3, 4])\n",
    "plt.xticks([0.5, 1.5, 2.5, 3.5], ['Spade', 'Heart', 'Diamond', 'Club'])\n",
    "plt.ylabel('Number of boards where the suit is lead')\n",
    "plt.xlabel('Suits')"
   ]
  },
  {
   "cell_type": "markdown",
   "metadata": {},
   "source": [
    "### Learning."
   ]
  },
  {
   "cell_type": "markdown",
   "metadata": {},
   "source": [
    "#### Implementing the basic rule \"lead the best suit\", where \"the best\" means the longest (and major>minor)"
   ]
  },
  {
   "cell_type": "code",
   "execution_count": 27,
   "metadata": {
    "collapsed": false
   },
   "outputs": [],
   "source": [
    "number_of_cardes = np.zeros((length, 4), int)\n",
    "for i in range(length):\n",
    "    number_of_cardes[i][0] = sum(hands[i][0:13])\n",
    "    number_of_cardes[i][1] = sum(hands[i][13:26])\n",
    "    number_of_cardes[i][2] = sum(hands[i][26:39])\n",
    "    number_of_cardes[i][3] = sum(hands[i][39:52])\n",
    "best_suit = []\n",
    "for i in range(length):\n",
    "    best_suit.append(np.argmax(number_of_cardes[i]))"
   ]
  },
  {
   "cell_type": "markdown",
   "metadata": {},
   "source": [
    "Calculate the percantage of applying the empiric rule in the given data"
   ]
  },
  {
   "cell_type": "code",
   "execution_count": 28,
   "metadata": {
    "collapsed": false
   },
   "outputs": [
    {
     "name": "stdout",
     "output_type": "stream",
     "text": [
      "0.738398544131\n"
     ]
    }
   ],
   "source": [
    "a = np.array(best_suit)\n",
    "b = np.array(suits_lead)\n",
    "print 1.0*np.count_nonzero(a==b)/length"
   ]
  },
  {
   "cell_type": "markdown",
   "metadata": {},
   "source": [
    "So we can see that the __empiric rule__ which is taught to the beginners works in 3 bords out of 4."
   ]
  },
  {
   "cell_type": "markdown",
   "metadata": {},
   "source": [
    "#### One vs rest classification."
   ]
  },
  {
   "cell_type": "code",
   "execution_count": 41,
   "metadata": {
    "collapsed": false
   },
   "outputs": [],
   "source": [
    "from sklearn.multiclass import OneVsRestClassifier\n",
    "from sklearn.svm import SVC\n",
    "from sklearn.model_selection import cross_val_score"
   ]
  },
  {
   "cell_type": "markdown",
   "metadata": {},
   "source": [
    "Learning and checking the OneVsRestClassifier classifier on cross validation."
   ]
  },
  {
   "cell_type": "code",
   "execution_count": 56,
   "metadata": {
    "collapsed": false
   },
   "outputs": [
    {
     "name": "stdout",
     "output_type": "stream",
     "text": [
      "OneVsRest Classifier\n",
      "Accuracy scores:  [ 0.71266968  0.72562358  0.68109339  0.69634703  0.67808219]\n",
      "mean: 0.698763176769, max: 0.725623582766, min: 0.678082191781, std: 0.0182243488182\n"
     ]
    }
   ],
   "source": [
    "classifier = OneVsRestClassifier(SVC(random_state=0))\n",
    "classifier_scoring = cross_val_score(classifier, hands, suits_lead, scoring = 'accuracy', cv = 5)\n",
    "print 'OneVsRest Classifier'\n",
    "print 'Accuracy scores: ', classifier_scoring\n",
    "print 'mean: {}, max: {}, min: {}, std: {}'.format(classifier_scoring.mean(), classifier_scoring.max(), \n",
    "                                                     classifier_scoring.min(), classifier_scoring.std())"
   ]
  },
  {
   "cell_type": "markdown",
   "metadata": {},
   "source": [
    "Learning and checking a SVM classifier on train_test_split"
   ]
  },
  {
   "cell_type": "code",
   "execution_count": 57,
   "metadata": {
    "collapsed": false
   },
   "outputs": [
    {
     "name": "stdout",
     "output_type": "stream",
     "text": [
      "SVC\n",
      "Accuracy scores:  [ 0.69230769  0.68480726  0.69476082  0.68949772  0.70547945]\n",
      "mean: 0.693370587508, max: 0.705479452055, min: 0.684807256236, std: 0.00689951973097\n"
     ]
    }
   ],
   "source": [
    "classifier = SVC()\n",
    "classifier_scoring = cross_val_score(classifier, hands, suits_lead, scoring = 'accuracy', cv = 5)\n",
    "print 'SVC'\n",
    "print 'Accuracy scores: ', classifier_scoring\n",
    "print 'mean: {}, max: {}, min: {}, std: {}'.format(classifier_scoring.mean(), classifier_scoring.max(), \n",
    "                                                     classifier_scoring.min(), classifier_scoring.std())"
   ]
  },
  {
   "cell_type": "markdown",
   "metadata": {},
   "source": [
    "#### Increasing number of boards by swipping majors and minors."
   ]
  },
  {
   "cell_type": "code",
   "execution_count": 58,
   "metadata": {
    "collapsed": true
   },
   "outputs": [],
   "source": [
    "#exchange majors; exchange minors; exchange both\n",
    "# !!on peut utiliser np.hstack((a, b))\n",
    "for i in range(length):\n",
    "    \n",
    "    #exchange majors\n",
    "    new_hand = np.zeros(52)\n",
    "    new_hand[:13], new_hand[13:26], new_hand[26:52] = hands[i][13:26], hands[i][0:13], hands[i][26:52]\n",
    "    hands.append(new_hand)\n",
    "    if suits_lead[i] == 0:\n",
    "        suits_lead.append(1)\n",
    "    if suits_lead[i] == 1:\n",
    "        suits_lead.append(0)\n",
    "    if suits_lead[i] == 2:\n",
    "        suits_lead.append(2)\n",
    "    if suits_lead[i] == 3:\n",
    "        suits_lead.append(3)\n",
    "        \n",
    "    #exchange minors\n",
    "    new_hand = np.zeros(52)\n",
    "    new_hand[:26], new_hand[26:39], new_hand[39:52] = hands[i][0:26], hands[i][39:52], hands[i][26:39]\n",
    "    hands.append(new_hand)\n",
    "    if suits_lead[i] == 0:\n",
    "        suits_lead.append(0)\n",
    "    if suits_lead[i] == 1:\n",
    "        suits_lead.append(1)\n",
    "    if suits_lead[i] == 2:\n",
    "        suits_lead.append(3)\n",
    "    if suits_lead[i] == 3:\n",
    "        suits_lead.append(2)\n",
    "        \n",
    "    #exchange both\n",
    "    new_hand = np.zeros(52)\n",
    "    new_hand[:13], new_hand[13:26], new_hand[26:39], new_hand[39:52] = hands[i][13:26], hands[i][0:13], hands[i][39:52], hands[i][26:39]\n",
    "    hands.append(new_hand)\n",
    "    if suits_lead[i] == 0:\n",
    "        suits_lead.append(1)\n",
    "    if suits_lead[i] == 1:\n",
    "        suits_lead.append(0)\n",
    "    if suits_lead[i] == 2:\n",
    "        suits_lead.append(3)\n",
    "    if suits_lead[i] == 3:\n",
    "        suits_lead.append(2)"
   ]
  },
  {
   "cell_type": "code",
   "execution_count": 60,
   "metadata": {
    "collapsed": false
   },
   "outputs": [
    {
     "data": {
      "text/plain": [
       "<matplotlib.text.Text at 0x116c97910>"
      ]
     },
     "execution_count": 60,
     "metadata": {},
     "output_type": "execute_result"
    },
    {
     "data": {
      "image/png": "[encoded data removed]",
      "text/plain": [
       "<matplotlib.figure.Figure at 0x116cef7d0>"
      ]
     },
     "metadata": {},
     "output_type": "display_data"
    }
   ],
   "source": [
    "plt.hist(suits_lead, bins = [0, 1, 2, 3, 4])\n",
    "plt.xticks([0.5, 1.5, 2.5, 3.5], ['Spade', 'Heart', 'Diamond', 'Club'])\n",
    "plt.ylabel('Number of boards where the suit is lead')\n",
    "plt.xlabel('Suits')"
   ]
  },
  {
   "cell_type": "markdown",
   "metadata": {},
   "source": [
    "Learning and checking bigger dataset on the OneVsRestClassifier classifier on cross_vall"
   ]
  },
  {
   "cell_type": "code",
   "execution_count": 59,
   "metadata": {
    "collapsed": false
   },
   "outputs": [
    {
     "name": "stdout",
     "output_type": "stream",
     "text": [
      "OneVsRest Classifier\n",
      "Accuracy scores:  [ 0.76193182  0.75142207  0.77189989  0.73947668  0.74971559]\n",
      "mean: 0.754889207777, max: 0.771899886234, min: 0.739476678043, std: 0.0110931962909\n"
     ]
    }
   ],
   "source": [
    "classifier = OneVsRestClassifier(SVC(random_state=0))\n",
    "classifier_scoring = cross_val_score(classifier, hands, suits_lead, scoring = 'accuracy', cv = 5)\n",
    "print 'OneVsRest Classifier'\n",
    "print 'Accuracy scores: ', classifier_scoring\n",
    "print 'mean: {}, max: {}, min: {}, std: {}'.format(classifier_scoring.mean(), classifier_scoring.max(), \n",
    "                                                     classifier_scoring.min(), classifier_scoring.std())"
   ]
  },
  {
   "cell_type": "markdown",
   "metadata": {},
   "source": [
    "Decision trees"
   ]
  },
  {
   "cell_type": "code",
   "execution_count": 61,
   "metadata": {
    "collapsed": true
   },
   "outputs": [],
   "source": [
    "from sklearn import tree"
   ]
  },
  {
   "cell_type": "code",
   "execution_count": 63,
   "metadata": {
    "collapsed": false
   },
   "outputs": [
    {
     "name": "stdout",
     "output_type": "stream",
     "text": [
      "OneVsRest Classifier\n",
      "Accuracy scores:  [ 0.50340909  0.38850967  0.41240046  0.40614334  0.41240046]\n",
      "mean: 0.424572603165, max: 0.503409090909, min: 0.38850967008, std: 0.0403774364927\n"
     ]
    }
   ],
   "source": [
    "classifier = tree.DecisionTreeClassifier()\n",
    "classifier_scoring = cross_val_score(classifier, hands, suits_lead, scoring = 'accuracy', cv = 5)\n",
    "print 'OneVsRest Classifier'\n",
    "print 'Accuracy scores: ', classifier_scoring\n",
    "print 'mean: {}, max: {}, min: {}, std: {}'.format(classifier_scoring.mean(), classifier_scoring.max(), \n",
    "                                                     classifier_scoring.min(), classifier_scoring.std())"
   ]
  },
  {
   "cell_type": "markdown",
   "metadata": {},
   "source": [
    "As we can see decision trees don't work well"
   ]
  },
  {
   "cell_type": "markdown",
   "metadata": {},
   "source": [
    "### Human check"
   ]
  },
  {
   "cell_type": "markdown",
   "metadata": {},
   "source": [
    "Taking OneVsRestClassifier and fittig all data"
   ]
  },
  {
   "cell_type": "code",
   "execution_count": 65,
   "metadata": {
    "collapsed": false
   },
   "outputs": [
    {
     "data": {
      "text/plain": [
       "OneVsRestClassifier(estimator=SVC(C=1.0, cache_size=200, class_weight=None, coef0=0.0,\n",
       "  decision_function_shape=None, degree=3, gamma='auto', kernel='rbf',\n",
       "  max_iter=-1, probability=False, random_state=0, shrinking=True,\n",
       "  tol=0.001, verbose=False),\n",
       "          n_jobs=1)"
      ]
     },
     "execution_count": 65,
     "metadata": {},
     "output_type": "execute_result"
    }
   ],
   "source": [
    "classifier = OneVsRestClassifier(SVC(random_state=0))\n",
    "classifier.fit(hands, suits_lead)"
   ]
  },
  {
   "cell_type": "markdown",
   "metadata": {},
   "source": [
    "Giving the hands:\n",
    "5432 432 423 432 ;\n",
    "432 5432 432 432 ;\n",
    "432 432 5432 432 ;\n",
    "432 432 432 5432 ;\n",
    "5432 432 32 5432 ;\n",
    "AKQJ 32 32 65432 ;\n",
    "A5432 32 32 KQJT ;\n",
    "KQJT 32 32 A5432 ;"
   ]
  },
  {
   "cell_type": "code",
   "execution_count": 82,
   "metadata": {
    "collapsed": true
   },
   "outputs": [],
   "source": [
    "checking = []\n",
    "specific_hand = [1, 1, 1, 1, 0, 0, 0, 0, 0, 0, 0, 0, 0, \n",
    "           1, 1, 1, 0, 0, 0, 0, 0, 0, 0, 0, 0, 0, \n",
    "           1, 1, 1, 0, 0, 0, 0, 0, 0, 0, 0, 0, 0, \n",
    "           1, 1, 1, 0, 0, 0, 0, 0, 0, 0, 0, 0, 0]\n",
    "checking.append(specific_hand)\n",
    "\n",
    "specific_hand = [1, 1, 1, 0, 0, 0, 0, 0, 0, 0, 0, 0, 0, \n",
    "           1, 1, 1, 1, 0, 0, 0, 0, 0, 0, 0, 0, 0, \n",
    "           1, 1, 1, 0, 0, 0, 0, 0, 0, 0, 0, 0, 0, \n",
    "           1, 1, 1, 0, 0, 0, 0, 0, 0, 0, 0, 0, 0]\n",
    "checking.append(specific_hand)\n",
    "\n",
    "specific_hand = [1, 1, 1, 0, 0, 0, 0, 0, 0, 0, 0, 0, 0, \n",
    "           1, 1, 1, 0, 0, 0, 0, 0, 0, 0, 0, 0, 0, \n",
    "           1, 1, 1, 1, 0, 0, 0, 0, 0, 0, 0, 0, 0, \n",
    "           1, 1, 1, 0, 0, 0, 0, 0, 0, 0, 0, 0, 0]\n",
    "checking.append(specific_hand)\n",
    "\n",
    "specific_hand = [1, 1, 1, 0, 0, 0, 0, 0, 0, 0, 0, 0, 0, \n",
    "           1, 1, 1, 0, 0, 0, 0, 0, 0, 0, 0, 0, 0, \n",
    "           1, 1, 1, 0, 0, 0, 0, 0, 0, 0, 0, 0, 0, \n",
    "           1, 1, 1, 1, 0, 0, 0, 0, 0, 0, 0, 0, 0]\n",
    "checking.append(specific_hand)\n",
    "\n",
    "specific_hand = [1, 1, 1, 1, 0, 0, 0, 0, 0, 0, 0, 0, 0, \n",
    "           1, 1, 1, 0, 0, 0, 0, 0, 0, 0, 0, 0, 0, \n",
    "           1, 1, 0, 0, 0, 0, 0, 0, 0, 0, 0, 0, 0, \n",
    "           1, 1, 1, 1, 0, 0, 0, 0, 0, 0, 0, 0, 0]\n",
    "checking.append(specific_hand)\n",
    "\n",
    "specific_hand = [0, 0, 0, 0, 0, 0, 0, 0, 0, 1, 1, 1, 1, \n",
    "           1, 1, 0, 0, 0, 0, 0, 0, 0, 0, 0, 0, 0, \n",
    "           1, 1, 0, 0, 0, 0, 0, 0, 0, 0, 0, 0, 0, \n",
    "           1, 1, 1, 1, 1, 0, 0, 0, 0, 0, 0, 0, 0]\n",
    "checking.append(specific_hand)\n",
    "\n",
    "specific_hand = [1, 1, 1, 1, 0, 0, 0, 0, 0, 0, 0, 0, 1, \n",
    "           1, 1, 0, 0, 0, 0, 0, 0, 0, 0, 0, 0, 0, \n",
    "           1, 1, 0, 0, 0, 0, 0, 0, 0, 0, 0, 0, 0, \n",
    "           0, 0, 0, 0, 0, 0, 0, 0, 1, 1, 1, 1, 0]\n",
    "checking.append(specific_hand)\n",
    "\n",
    "specific_hand = [0, 0, 0, 0, 0, 0, 0, 0, 1, 1, 1, 1, 0, \n",
    "           1, 1, 0, 0, 0, 0, 0, 0, 0, 0, 0, 0, 0, \n",
    "           1, 1, 0, 0, 0, 0, 0, 0, 0, 0, 0, 0, 0, \n",
    "           1, 1, 1, 1, 0, 0, 0, 0, 0, 0, 0, 0, 1]\n",
    "checking.append(specific_hand)"
   ]
  },
  {
   "cell_type": "code",
   "execution_count": 83,
   "metadata": {
    "collapsed": false
   },
   "outputs": [
    {
     "data": {
      "text/plain": [
       "array([0, 1, 2, 3, 0, 3, 3, 0])"
      ]
     },
     "execution_count": 83,
     "metadata": {},
     "output_type": "execute_result"
    }
   ],
   "source": [
    "classifier.predict(checking)"
   ]
  },
  {
   "cell_type": "markdown",
   "metadata": {},
   "source": [
    "Seems very reasonable."
   ]
  }
 ],
 "metadata": {
  "kernelspec": {
   "display_name": "Python 3",
   "language": "python",
   "name": "python3"
  },
  "language_info": {
   "codemirror_mode": {
    "name": "ipython",
    "version": 3
   },
   "file_extension": ".py",
   "mimetype": "text/x-python",
   "name": "python",
   "nbconvert_exporter": "python",
   "pygments_lexer": "ipython3",
   "version": "3.6.0"
  }
 },
 "nbformat": 4,
 "nbformat_minor": 0
}
