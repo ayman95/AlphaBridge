{
 "cells": [
  {
   "cell_type": "code",
   "execution_count": 1,
   "metadata": {},
   "outputs": [
    {
     "name": "stdout",
     "output_type": "stream",
     "text": [
      "Loaded lib <CDLL './libdds.so', handle 559ab9e3c6a0 at 0x7f6ad14dba90>\n"
     ]
    }
   ],
   "source": [
    "import dds\n",
    "import numpy as np\n",
    "import pandas as pd\n",
    "import ctypes\n",
    "import functions\n",
    "from data.searcher import search_bidding"
   ]
  },
  {
   "cell_type": "code",
   "execution_count": 2,
   "metadata": {},
   "outputs": [],
   "source": [
    "BIDDING = \"1N,P,P,P\"\n",
    "df = search_bidding(BIDDING)"
   ]
  },
  {
   "cell_type": "code",
   "execution_count": 3,
   "metadata": {},
   "outputs": [],
   "source": [
    "CARDMAP = {\n",
    "    0:'2', 1:'3', 2:'4', 3:'5', 4:'6', 5:'7', 6:'8', 7: '9', 8:'T', 9:'J', 10:'Q', 11:'K', 12:'A'\n",
    "}"
   ]
  },
  {
   "cell_type": "code",
   "execution_count": 4,
   "metadata": {},
   "outputs": [
    {
     "data": {
      "text/plain": [
       "array([ 0,  4,  6,  9, 16, 22, 24, 25, 26, 31, 35, 50, 51], dtype=int32)"
      ]
     },
     "execution_count": 4,
     "metadata": {},
     "output_type": "execute_result"
    }
   ],
   "source": [
    "df.iloc[0].east"
   ]
  },
  {
   "cell_type": "code",
   "execution_count": 36,
   "metadata": {},
   "outputs": [
    {
     "name": "stdout",
     "output_type": "stream",
     "text": [
      "[[[5, 8, 5, 8], [5, 8, 5, 8], [7, 5, 7, 5], [5, 8, 5, 8], [7, 6, 7, 6]], [[6, 7, 5, 7], [4, 8, 4, 8], [9, 4, 9, 4], [4, 8, 4, 8], [6, 5, 6, 5]], [[7, 5, 7, 5], [5, 8, 5, 8], [9, 4, 8, 4], [7, 6, 7, 6], [7, 6, 6, 5]], [[7, 5, 7, 5], [5, 8, 5, 8], [9, 4, 8, 4], [7, 6, 7, 6], [7, 6, 6, 5]], [[6, 7, 6, 7], [9, 4, 8, 4], [7, 5, 6, 5], [8, 5, 7, 5], [6, 7, 6, 7]], [[7, 6, 7, 5], [4, 9, 4, 9], [7, 6, 7, 6], [3, 10, 3, 10], [6, 6, 6, 6]]]\n"
     ]
    }
   ],
   "source": [
    "def convert_card(n):\n",
    "    return CARDMAP[n % 13], n//13\n",
    "\n",
    "def convert_hand(hand):\n",
    "    cards = [[], [], [], []]\n",
    "    for c in hand:\n",
    "        card, color = convert_card(c)\n",
    "        cards[color] += card\n",
    "    res = []\n",
    "    for c in cards:\n",
    "        c.reverse()\n",
    "        res.append(\"\".join(c))\n",
    "    return \".\".join(res)\n",
    "\n",
    "def convert_to_pbn(df, index):\n",
    "    deal = df.iloc[index]\n",
    "    north = deal.north\n",
    "    east = deal.east\n",
    "    south = deal.south\n",
    "    west = deal.west\n",
    "    res = \"N:\" + \" \".join(map(convert_hand, [north, east, south, west]))\n",
    "    return bytes(res,\"utf8\")\n",
    "\n",
    "class Solver:\n",
    "    def __init__(self):\n",
    "        dds.SetMaxThreads(0)\n",
    "    \n",
    "    def solve(self, deal):\n",
    "        self.DDdealsPBN = dds.ddTableDealsPBN()\n",
    "        self.tableRes = dds.ddTablesRes()\n",
    "        self.pres = dds.allParResults()\n",
    "        self.DDdealsPBN.noOfTables = len(indexes)\n",
    "        for i in range(self.DDdealsPBN.noOfTables):\n",
    "            self.DDdealsPBN.deals[i].cards = convert_to_pbn(df, i)\n",
    "        res = dds.CalcAllTablesPBN(ctypes.pointer(self.DDdealsPBN), self.mode, self.trumpFilter, ctypes.pointer(self.tableRes), ctypes.pointer(self.pres))\n",
    "        if res != dds.RETURN_NO_FAULT:\n",
    "            raise NameError('Solving Error')\n",
    "        else:\n",
    "            result = []\n",
    "            for i in range(self.DDdealsPBN.noOfTables):\n",
    "                result.append(list(map(list,ctypes.pointer(solver.tableRes.results[i]).contents.resTable)))\n",
    "        return result\n",
    "    \n",
    "\n",
    "indexes = [7, 8, 10, 11, 14, 19]\n",
    "n = len(indexes)\n",
    "res = solver.solve(df, indexes)"
   ]
  },
  {
   "cell_type": "code",
   "execution_count": 34,
   "metadata": {},
   "outputs": [
    {
     "ename": "AttributeError",
     "evalue": "'ddTableResults_Array_50' object has no attribute 'resTable'",
     "output_type": "error",
     "traceback": [
      "\u001b[0;31m---------------------------------------------------------------------------\u001b[0m",
      "\u001b[0;31mAttributeError\u001b[0m                            Traceback (most recent call last)",
      "\u001b[0;32m<ipython-input-34-1434829f1d3e>\u001b[0m in \u001b[0;36m<module>\u001b[0;34m()\u001b[0m\n\u001b[0;32m----> 1\u001b[0;31m \u001b[0mlist\u001b[0m\u001b[0;34m(\u001b[0m\u001b[0mmap\u001b[0m\u001b[0;34m(\u001b[0m\u001b[0mlist\u001b[0m\u001b[0;34m,\u001b[0m\u001b[0mctypes\u001b[0m\u001b[0;34m.\u001b[0m\u001b[0mpointer\u001b[0m\u001b[0;34m(\u001b[0m\u001b[0msolver\u001b[0m\u001b[0;34m.\u001b[0m\u001b[0mtableRes\u001b[0m\u001b[0;34m.\u001b[0m\u001b[0mresults\u001b[0m\u001b[0;34m)\u001b[0m\u001b[0;34m.\u001b[0m\u001b[0mcontents\u001b[0m\u001b[0;34m.\u001b[0m\u001b[0mresTable\u001b[0m\u001b[0;34m)\u001b[0m\u001b[0;34m)\u001b[0m\u001b[0;34m\u001b[0m\u001b[0m\n\u001b[0m",
      "\u001b[0;31mAttributeError\u001b[0m: 'ddTableResults_Array_50' object has no attribute 'resTable'"
     ]
    }
   ],
   "source": [
    "list(map(list,ctypes.pointer(solver.tableRes.results).contents.resTable))"
   ]
  },
  {
   "cell_type": "code",
   "execution_count": 1,
   "metadata": {},
   "outputs": [
    {
     "name": "stdout",
     "output_type": "stream",
     "text": [
      "Loaded lib <CDLL './libdds.so', handle 56238d721a40 at 0x7faee0584978>\n"
     ]
    }
   ],
   "source": [
    "from solver.dds_solver import Solver"
   ]
  },
  {
   "cell_type": "code",
   "execution_count": null,
   "metadata": {},
   "outputs": [],
   "source": []
  }
 ],
 "metadata": {
  "kernelspec": {
   "display_name": "Python 3",
   "language": "python",
   "name": "python3"
  },
  "language_info": {
   "codemirror_mode": {
    "name": "ipython",
    "version": 3
   },
   "file_extension": ".py",
   "mimetype": "text/x-python",
   "name": "python",
   "nbconvert_exporter": "python",
   "pygments_lexer": "ipython3",
   "version": "3.6.4"
  }
 },
 "nbformat": 4,
 "nbformat_minor": 2
}
