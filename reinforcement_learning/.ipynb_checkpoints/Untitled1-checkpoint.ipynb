{
 "cells": [
  {
   "cell_type": "code",
   "execution_count": 7,
   "metadata": {},
   "outputs": [],
   "source": [
    "import gym\n",
    "from gym import spaces, logger\n",
    "import numpy as np\n",
    "from solver.dds_solver import Solver"
   ]
  },
  {
   "cell_type": "code",
   "execution_count": 23,
   "metadata": {},
   "outputs": [],
   "source": [
    "def to_categorical(y, num_classes=None):\n",
    "    y = np.array(y, dtype='int')\n",
    "    input_shape = y.shape\n",
    "    if input_shape and input_shape[-1] == 1 and len(input_shape) > 1:\n",
    "        input_shape = tuple(input_shape[:-1])\n",
    "    y = y.ravel()\n",
    "    if not num_classes:\n",
    "        num_classes = np.max(y) + 1\n",
    "    n = y.shape[0]\n",
    "    categorical = np.zeros((n, num_classes))\n",
    "    categorical[np.arange(n), y] = 1\n",
    "    output_shape = input_shape + (num_classes,)\n",
    "    categorical = np.reshape(categorical, output_shape)\n",
    "    return categorical\n",
    "\n",
    "class BridgeBidding(gym.Env):\n",
    "    B  = { \n",
    "           '1N': 0, '1S': 1, '1H': 2, '1D': 3, '1C': 4,\n",
    "           '2N': 5, '2S': 6, '2H': 7, '2D': 8, '2C': 9,\n",
    "           '3N': 10, '3S': 11, '3H': 12, '3D': 13, '3C': 14,\n",
    "           '4N': 15, '4S': 16, '4H': 17, '4D': 18, '4C': 19,\n",
    "           '5N': 20, '5S': 21, '5H': 22, '5D': 23, '5C': 24,\n",
    "           '6N': 25, '6S': 26, '6H': 27, '6D': 28, '6C': 29,\n",
    "           '7N': 30, '7S': 31, '7H': 32, '7D': 33, '7C': 34,\n",
    "           'PASS': 35\n",
    "         }\n",
    "    \n",
    "    A = to_categorical(list(B.values()))\n",
    "    \n",
    "    CARDMAP = {\n",
    "           'S2': 0, 'S3': 1, 'S4': 2, 'S5': 3, 'S6': 4, 'S7': 5, 'S8': 6, 'S9': 7, 'ST': 8, 'SJ': 9, 'SQ': 10, 'SK': 11, 'SA': 12,\n",
    "           'H2': 13, 'H3': 14, 'H4': 15, 'H5': 16, 'H6': 17, 'H7': 18, 'H8': 19, 'H9': 20, 'HT': 21, 'HJ': 22, 'HQ': 23, 'HK': 24, 'HA': 25,\n",
    "           'D2': 26, 'D3': 27, 'D4': 28, 'D5': 29, 'D6': 30, 'D7': 31, 'D8': 32, 'D9': 33, 'DT': 34, 'DJ': 35, 'DQ': 36, 'DK': 37, 'DA': 38,\n",
    "           'C2': 39, 'C3': 40, 'C4': 41, 'C5': 42, 'C6': 43, 'C7': 44, 'C8': 45, 'C9': 46, 'CT': 47, 'CJ': 48, 'CQ': 49, 'CK': 50, 'CA': 51\n",
    "           }\n",
    "    \n",
    "    C = to_categorical(list(CARDMAP.values()))\n",
    "    \n",
    "    def __init__(self):\n",
    "        self.deal = self.random_deal()\n",
    "        self.north = self.deal[:13]\n",
    "        self.south = self.deal[13:26]\n",
    "        self.WE = self.deal[26:]\n",
    "        self.biddings = []\n",
    "        self.steps = 0\n",
    "        \n",
    "        self.solver = Solver(self.deal)\n",
    "        self.action_space = spaces.Discrete(36)\n",
    "        low = np.zeros(2548)\n",
    "        self.observation_space = spaces.Box(low=low, high=1+low)\n",
    "    \n",
    "    def step(self, action):\n",
    "        r = 0\n",
    "        done = False\n",
    "        self.biddings.append(action)\n",
    "        s_ = self.get_state()\n",
    "        \n",
    "        if len(self.biddings) == 1:\n",
    "            if (action == BridgeBidding.A[35]).all():\n",
    "                r = -10\n",
    "                done = True\n",
    "        elif np.argmax(self.biddings[-1]) <= np.argmax(self.biddings[-2]):\n",
    "            r = -1\n",
    "            done = True\n",
    "        elif (action == BridgeBidding.A[35]).all():\n",
    "            bidding = np.argmax(self.biddings[-2]) % 5\n",
    "            r = self.solver.mean_solve(bidding) - (np.argmax(self.biddings[-2])//5 + 7)\n",
    "            done = True\n",
    "        self.steps += 1\n",
    "        return s_, r, done, None\n",
    "    \n",
    "    def get_state(self):\n",
    "        s = np.zeros((36, 52))\n",
    "        for i, b in enumerate(self.biddings):\n",
    "            s[i][:36] = b\n",
    "        if self.steps % 2 == 0:\n",
    "            return np.concatenate((env.north, s))\n",
    "        else:\n",
    "            return np.concatenate((env.south, s)).ravel()\n",
    "    \n",
    "    def random_deal(self):\n",
    "        deal = BridgeBidding.C.copy()\n",
    "        np.random.shuffle(deal)\n",
    "        return deal\n",
    "    \n",
    "    def reset(self):\n",
    "        self.biddings = []\n",
    "        self.steps = 0\n",
    "        return self.get_state()\n",
    "    \n",
    "    def render(self):\n",
    "        return \n",
    "    \n",
    "    def close(self):\n",
    "        return"
   ]
  },
  {
   "cell_type": "code",
   "execution_count": 24,
   "metadata": {},
   "outputs": [
    {
     "ename": "AttributeError",
     "evalue": "'int' object has no attribute 'shape'",
     "output_type": "error",
     "traceback": [
      "\u001b[0;31m---------------------------------------------------------------------------\u001b[0m",
      "\u001b[0;31mAttributeError\u001b[0m                            Traceback (most recent call last)",
      "\u001b[0;32m<ipython-input-24-3ccf30d3bfc8>\u001b[0m in \u001b[0;36m<module>\u001b[0;34m()\u001b[0m\n\u001b[0;32m----> 1\u001b[0;31m \u001b[0menv\u001b[0m \u001b[0;34m=\u001b[0m \u001b[0mBridgeBidding\u001b[0m\u001b[0;34m(\u001b[0m\u001b[0;34m)\u001b[0m\u001b[0;34m\u001b[0m\u001b[0m\n\u001b[0m\u001b[1;32m      2\u001b[0m \u001b[0menv\u001b[0m\u001b[0;34m.\u001b[0m\u001b[0mstep\u001b[0m\u001b[0;34m(\u001b[0m\u001b[0;34m(\u001b[0m\u001b[0mBridgeBidding\u001b[0m\u001b[0;34m.\u001b[0m\u001b[0mA\u001b[0m\u001b[0;34m)\u001b[0m\u001b[0;34m[\u001b[0m\u001b[0;36m0\u001b[0m\u001b[0;34m]\u001b[0m\u001b[0;34m)\u001b[0m\u001b[0;34m\u001b[0m\u001b[0m\n\u001b[1;32m      3\u001b[0m \u001b[0menv\u001b[0m\u001b[0;34m.\u001b[0m\u001b[0mstep\u001b[0m\u001b[0;34m(\u001b[0m\u001b[0mBridgeBidding\u001b[0m\u001b[0;34m.\u001b[0m\u001b[0mA\u001b[0m\u001b[0;34m[\u001b[0m\u001b[0;36m1\u001b[0m\u001b[0;34m]\u001b[0m\u001b[0;34m)\u001b[0m\u001b[0;34m\u001b[0m\u001b[0m\n\u001b[1;32m      4\u001b[0m \u001b[0menv\u001b[0m\u001b[0;34m.\u001b[0m\u001b[0mstep\u001b[0m\u001b[0;34m(\u001b[0m\u001b[0mBridgeBidding\u001b[0m\u001b[0;34m.\u001b[0m\u001b[0mA\u001b[0m\u001b[0;34m[\u001b[0m\u001b[0;36m5\u001b[0m\u001b[0;34m]\u001b[0m\u001b[0;34m)\u001b[0m\u001b[0;34m\u001b[0m\u001b[0m\n\u001b[1;32m      5\u001b[0m \u001b[0mx\u001b[0m \u001b[0;34m=\u001b[0m \u001b[0menv\u001b[0m\u001b[0;34m.\u001b[0m\u001b[0mstep\u001b[0m\u001b[0;34m(\u001b[0m\u001b[0mBridgeBidding\u001b[0m\u001b[0;34m.\u001b[0m\u001b[0mA\u001b[0m\u001b[0;34m[\u001b[0m\u001b[0;36m35\u001b[0m\u001b[0;34m]\u001b[0m\u001b[0;34m)\u001b[0m\u001b[0;34m[\u001b[0m\u001b[0;36m0\u001b[0m\u001b[0;34m]\u001b[0m\u001b[0;34m\u001b[0m\u001b[0m\n",
      "\u001b[0;32m<ipython-input-23-d13f589777d7>\u001b[0m in \u001b[0;36m__init__\u001b[0;34m(self)\u001b[0m\n\u001b[1;32m     47\u001b[0m         \u001b[0mself\u001b[0m\u001b[0;34m.\u001b[0m\u001b[0msolver\u001b[0m \u001b[0;34m=\u001b[0m \u001b[0mSolver\u001b[0m\u001b[0;34m(\u001b[0m\u001b[0mself\u001b[0m\u001b[0;34m.\u001b[0m\u001b[0mdeal\u001b[0m\u001b[0;34m)\u001b[0m\u001b[0;34m\u001b[0m\u001b[0m\n\u001b[1;32m     48\u001b[0m         \u001b[0mself\u001b[0m\u001b[0;34m.\u001b[0m\u001b[0maction_space\u001b[0m \u001b[0;34m=\u001b[0m \u001b[0mspaces\u001b[0m\u001b[0;34m.\u001b[0m\u001b[0mDiscrete\u001b[0m\u001b[0;34m(\u001b[0m\u001b[0;36m36\u001b[0m\u001b[0;34m)\u001b[0m\u001b[0;34m\u001b[0m\u001b[0m\n\u001b[0;32m---> 49\u001b[0;31m         \u001b[0mself\u001b[0m\u001b[0;34m.\u001b[0m\u001b[0mobservation_space\u001b[0m \u001b[0;34m=\u001b[0m \u001b[0mspaces\u001b[0m\u001b[0;34m.\u001b[0m\u001b[0mBox\u001b[0m\u001b[0;34m(\u001b[0m\u001b[0;36m2548\u001b[0m\u001b[0;34m,\u001b[0m\u001b[0;34m)\u001b[0m\u001b[0;34m\u001b[0m\u001b[0m\n\u001b[0m\u001b[1;32m     50\u001b[0m \u001b[0;34m\u001b[0m\u001b[0m\n\u001b[1;32m     51\u001b[0m     \u001b[0;32mdef\u001b[0m \u001b[0mstep\u001b[0m\u001b[0;34m(\u001b[0m\u001b[0mself\u001b[0m\u001b[0;34m,\u001b[0m \u001b[0maction\u001b[0m\u001b[0;34m)\u001b[0m\u001b[0;34m:\u001b[0m\u001b[0;34m\u001b[0m\u001b[0m\n",
      "\u001b[0;32m/usr/lib/python3.6/site-packages/gym/spaces/box.py\u001b[0m in \u001b[0;36m__init__\u001b[0;34m(self, low, high, shape, dtype)\u001b[0m\n\u001b[1;32m     18\u001b[0m         \"\"\"\n\u001b[1;32m     19\u001b[0m         \u001b[0;32mif\u001b[0m \u001b[0mshape\u001b[0m \u001b[0;32mis\u001b[0m \u001b[0;32mNone\u001b[0m\u001b[0;34m:\u001b[0m\u001b[0;34m\u001b[0m\u001b[0m\n\u001b[0;32m---> 20\u001b[0;31m             \u001b[0;32massert\u001b[0m \u001b[0mlow\u001b[0m\u001b[0;34m.\u001b[0m\u001b[0mshape\u001b[0m \u001b[0;34m==\u001b[0m \u001b[0mhigh\u001b[0m\u001b[0;34m.\u001b[0m\u001b[0mshape\u001b[0m\u001b[0;34m\u001b[0m\u001b[0m\n\u001b[0m\u001b[1;32m     21\u001b[0m             \u001b[0mshape\u001b[0m \u001b[0;34m=\u001b[0m \u001b[0mlow\u001b[0m\u001b[0;34m.\u001b[0m\u001b[0mshape\u001b[0m\u001b[0;34m\u001b[0m\u001b[0m\n\u001b[1;32m     22\u001b[0m         \u001b[0;32melse\u001b[0m\u001b[0;34m:\u001b[0m\u001b[0;34m\u001b[0m\u001b[0m\n",
      "\u001b[0;31mAttributeError\u001b[0m: 'int' object has no attribute 'shape'"
     ]
    }
   ],
   "source": [
    "env = BridgeBidding()\n",
    "env.step((BridgeBidding.A)[0])\n",
    "env.step(BridgeBidding.A[1])\n",
    "env.step(BridgeBidding.A[5])\n",
    "x = env.step(BridgeBidding.A[35])[0]"
   ]
  },
  {
   "cell_type": "code",
   "execution_count": 21,
   "metadata": {},
   "outputs": [
    {
     "data": {
      "text/plain": [
       "array([0., 0., 0., ..., 0., 0., 0.])"
      ]
     },
     "execution_count": 21,
     "metadata": {},
     "output_type": "execute_result"
    }
   ],
   "source": [
    "x"
   ]
  },
  {
   "cell_type": "code",
   "execution_count": 18,
   "metadata": {},
   "outputs": [
    {
     "data": {
      "text/plain": [
       "array([0., 0., 0., ..., 0., 0., 0.])"
      ]
     },
     "execution_count": 18,
     "metadata": {},
     "output_type": "execute_result"
    }
   ],
   "source": [
    "x.ravel()"
   ]
  },
  {
   "cell_type": "code",
   "execution_count": 22,
   "metadata": {},
   "outputs": [
    {
     "data": {
      "text/plain": [
       "(2548,)"
      ]
     },
     "execution_count": 22,
     "metadata": {},
     "output_type": "execute_result"
    }
   ],
   "source": [
    "x.shape"
   ]
  },
  {
   "cell_type": "code",
   "execution_count": null,
   "metadata": {},
   "outputs": [],
   "source": []
  }
 ],
 "metadata": {
  "kernelspec": {
   "display_name": "Python 3",
   "language": "python",
   "name": "python3"
  },
  "language_info": {
   "codemirror_mode": {
    "name": "ipython",
    "version": 3
   },
   "file_extension": ".py",
   "mimetype": "text/x-python",
   "name": "python",
   "nbconvert_exporter": "python",
   "pygments_lexer": "ipython3",
   "version": "3.6.4"
  }
 },
 "nbformat": 4,
 "nbformat_minor": 2
}
